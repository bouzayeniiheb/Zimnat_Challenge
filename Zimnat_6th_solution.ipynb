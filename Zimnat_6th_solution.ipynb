{
  "nbformat": 4,
  "nbformat_minor": 0,
  "metadata": {
    "kernelspec": {
      "display_name": "Python 3",
      "language": "python",
      "name": "python3"
    },
    "language_info": {
      "codemirror_mode": {
        "name": "ipython",
        "version": 3
      },
      "file_extension": ".py",
      "mimetype": "text/x-python",
      "name": "python",
      "nbconvert_exporter": "python",
      "pygments_lexer": "ipython3",
      "version": "3.7.4"
    },
    "colab": {
      "name": "Zimnat_6th_solution.ipynb",
      "provenance": [],
      "collapsed_sections": [],
      "toc_visible": true,
      "include_colab_link": true
    },
    "accelerator": "GPU"
  },
  "cells": [
    {
      "cell_type": "markdown",
      "metadata": {
        "id": "view-in-github",
        "colab_type": "text"
      },
      "source": [
        "<a href=\"https://colab.research.google.com/github/bouzayeniiheb/Zimnat_Challenge/blob/master/Zimnat_6th_solution.ipynb\" target=\"_parent\"><img src=\"https://colab.research.google.com/assets/colab-badge.svg\" alt=\"Open In Colab\"/></a>"
      ]
    },
    {
      "cell_type": "code",
      "metadata": {
        "id": "TkC30tZ6z0yo",
        "colab_type": "code",
        "outputId": "5459f39f-4e18-4c08-9dc1-bd1d434605be",
        "colab": {
          "base_uri": "https://localhost:8080/",
          "height": 34
        }
      },
      "source": [
        "from google.colab import drive\n",
        "drive.mount('/content/drive')"
      ],
      "execution_count": 0,
      "outputs": [
        {
          "output_type": "stream",
          "text": [
            "Drive already mounted at /content/drive; to attempt to forcibly remount, call drive.mount(\"/content/drive\", force_remount=True).\n"
          ],
          "name": "stdout"
        }
      ]
    },
    {
      "cell_type": "code",
      "metadata": {
        "id": "2nkjRmAbjgWQ",
        "colab_type": "code",
        "colab": {}
      },
      "source": [
        "import pandas as pd\n",
        "from scipy import stats\n",
        "import numpy as np\n",
        "import matplotlib.pyplot as plt\n",
        "%matplotlib inline\n",
        "pd.set_option('display.max_columns', None)"
      ],
      "execution_count": 0,
      "outputs": []
    },
    {
      "cell_type": "code",
      "metadata": {
        "id": "Ls99p9oijgWX",
        "colab_type": "code",
        "colab": {}
      },
      "source": [
        "policy_data_path     = r'/content/drive/My Drive/Colab Notebooks/policy_data.csv'\n",
        "payment_history_path = r'/content/drive/My Drive/Colab Notebooks/payment_history.csv'\n",
        "client_data_path     = r'/content/drive/My Drive/Colab Notebooks/client_data.csv'\n",
        "train_path           = r'/content/drive/My Drive/Colab Notebooks/train.csv'\n",
        "submission_path      = r'/content/drive/My Drive/Colab Notebooks/sample_sub.csv'"
      ],
      "execution_count": 0,
      "outputs": []
    },
    {
      "cell_type": "code",
      "metadata": {
        "id": "itYPV3AcjgWc",
        "colab_type": "code",
        "colab": {}
      },
      "source": [
        "policy_df       = pd.read_csv(policy_data_path)\n",
        "payment_history = pd.read_csv(payment_history_path)\n",
        "client_data     = pd.read_csv(client_data_path)\n",
        "train_data      = pd.read_csv(train_path)\n",
        "submission      = pd.read_csv(submission_path)"
      ],
      "execution_count": 0,
      "outputs": []
    },
    {
      "cell_type": "code",
      "metadata": {
        "id": "PaJQPdZ0ZVug",
        "colab_type": "code",
        "outputId": "5c89fd6a-5a08-42b1-a304-e490f0b21261",
        "colab": {
          "base_uri": "https://localhost:8080/",
          "height": 195
        }
      },
      "source": [
        "client_data.tail()"
      ],
      "execution_count": 0,
      "outputs": [
        {
          "output_type": "execute_result",
          "data": {
            "text/html": [
              "<div>\n",
              "<style scoped>\n",
              "    .dataframe tbody tr th:only-of-type {\n",
              "        vertical-align: middle;\n",
              "    }\n",
              "\n",
              "    .dataframe tbody tr th {\n",
              "        vertical-align: top;\n",
              "    }\n",
              "\n",
              "    .dataframe thead th {\n",
              "        text-align: right;\n",
              "    }\n",
              "</style>\n",
              "<table border=\"1\" class=\"dataframe\">\n",
              "  <thead>\n",
              "    <tr style=\"text-align: right;\">\n",
              "      <th></th>\n",
              "      <th>Policy ID</th>\n",
              "      <th>NPH_TITLE</th>\n",
              "      <th>NPH_LASTNAME</th>\n",
              "      <th>NPH_SEX</th>\n",
              "      <th>NPH_BIRTHDATE</th>\n",
              "      <th>NAD_ADDRESS1</th>\n",
              "      <th>NAD_ADDRESS2</th>\n",
              "    </tr>\n",
              "  </thead>\n",
              "  <tbody>\n",
              "    <tr>\n",
              "      <th>147457</th>\n",
              "      <td>PID_C7L8CKG</td>\n",
              "      <td>Ms.</td>\n",
              "      <td>NPH_LASTNAME_OSKG3V2</td>\n",
              "      <td>F</td>\n",
              "      <td>2003</td>\n",
              "      <td>ADDRESS1_WSRXQ43</td>\n",
              "      <td>ADDRESS2_AIIHWOT</td>\n",
              "    </tr>\n",
              "    <tr>\n",
              "      <th>147458</th>\n",
              "      <td>PID_I9C54DQ</td>\n",
              "      <td>Ms.</td>\n",
              "      <td>NPH_LASTNAME_9PAPKRV</td>\n",
              "      <td>F</td>\n",
              "      <td>2004</td>\n",
              "      <td>ADDRESS1_WSRXQ43</td>\n",
              "      <td>ADDRESS2_AIIHWOT</td>\n",
              "    </tr>\n",
              "    <tr>\n",
              "      <th>147459</th>\n",
              "      <td>PID_9EQ2F3M</td>\n",
              "      <td>Mr.</td>\n",
              "      <td>NPH_LASTNAME_VL5361P</td>\n",
              "      <td>M</td>\n",
              "      <td>1980</td>\n",
              "      <td>NaN</td>\n",
              "      <td>NaN</td>\n",
              "    </tr>\n",
              "    <tr>\n",
              "      <th>147460</th>\n",
              "      <td>PID_2JWCF1D</td>\n",
              "      <td>Mr.</td>\n",
              "      <td>NaN</td>\n",
              "      <td>M</td>\n",
              "      <td>1941</td>\n",
              "      <td>ADDRESS1_WSRXQ43</td>\n",
              "      <td>ADDRESS2_AIIHWOT</td>\n",
              "    </tr>\n",
              "    <tr>\n",
              "      <th>147461</th>\n",
              "      <td>PID_6E5J6RJ</td>\n",
              "      <td>Ms.</td>\n",
              "      <td>NPH_LASTNAME_CGIZZM3</td>\n",
              "      <td>F</td>\n",
              "      <td>2012</td>\n",
              "      <td>ADDRESS1_WSRXQ43</td>\n",
              "      <td>ADDRESS2_AIIHWOT</td>\n",
              "    </tr>\n",
              "  </tbody>\n",
              "</table>\n",
              "</div>"
            ],
            "text/plain": [
              "          Policy ID NPH_TITLE          NPH_LASTNAME NPH_SEX  NPH_BIRTHDATE  \\\n",
              "147457  PID_C7L8CKG       Ms.  NPH_LASTNAME_OSKG3V2       F           2003   \n",
              "147458  PID_I9C54DQ       Ms.  NPH_LASTNAME_9PAPKRV       F           2004   \n",
              "147459  PID_9EQ2F3M       Mr.  NPH_LASTNAME_VL5361P       M           1980   \n",
              "147460  PID_2JWCF1D       Mr.                   NaN       M           1941   \n",
              "147461  PID_6E5J6RJ       Ms.  NPH_LASTNAME_CGIZZM3       F           2012   \n",
              "\n",
              "            NAD_ADDRESS1      NAD_ADDRESS2  \n",
              "147457  ADDRESS1_WSRXQ43  ADDRESS2_AIIHWOT  \n",
              "147458  ADDRESS1_WSRXQ43  ADDRESS2_AIIHWOT  \n",
              "147459               NaN               NaN  \n",
              "147460  ADDRESS1_WSRXQ43  ADDRESS2_AIIHWOT  \n",
              "147461  ADDRESS1_WSRXQ43  ADDRESS2_AIIHWOT  "
            ]
          },
          "metadata": {
            "tags": []
          },
          "execution_count": 255
        }
      ]
    },
    {
      "cell_type": "code",
      "metadata": {
        "id": "jPA4V0atZkmy",
        "colab_type": "code",
        "outputId": "b4221391-7410-45ad-c986-2513636cef12",
        "colab": {
          "base_uri": "https://localhost:8080/",
          "height": 195
        }
      },
      "source": [
        "payment_history.tail()"
      ],
      "execution_count": 0,
      "outputs": [
        {
          "output_type": "execute_result",
          "data": {
            "text/html": [
              "<div>\n",
              "<style scoped>\n",
              "    .dataframe tbody tr th:only-of-type {\n",
              "        vertical-align: middle;\n",
              "    }\n",
              "\n",
              "    .dataframe tbody tr th {\n",
              "        vertical-align: top;\n",
              "    }\n",
              "\n",
              "    .dataframe thead th {\n",
              "        text-align: right;\n",
              "    }\n",
              "</style>\n",
              "<table border=\"1\" class=\"dataframe\">\n",
              "  <thead>\n",
              "    <tr style=\"text-align: right;\">\n",
              "      <th></th>\n",
              "      <th>Policy ID</th>\n",
              "      <th>AMOUNTPAID</th>\n",
              "      <th>DATEPAID</th>\n",
              "      <th>POSTDATE</th>\n",
              "      <th>PREMIUMDUEDATE</th>\n",
              "    </tr>\n",
              "  </thead>\n",
              "  <tbody>\n",
              "    <tr>\n",
              "      <th>495498</th>\n",
              "      <td>PID_C6XREE9</td>\n",
              "      <td>2579.382206</td>\n",
              "      <td>2017-10-31 00:00:00</td>\n",
              "      <td>2017-03-11 00:00:00</td>\n",
              "      <td>2017-01-10 00:00:00</td>\n",
              "    </tr>\n",
              "    <tr>\n",
              "      <th>495499</th>\n",
              "      <td>PID_4EPLKA2</td>\n",
              "      <td>5264.994998</td>\n",
              "      <td>2018-12-12 00:00:00</td>\n",
              "      <td>2018-12-28 00:00:00</td>\n",
              "      <td>2018-01-08 00:00:00</td>\n",
              "    </tr>\n",
              "    <tr>\n",
              "      <th>495500</th>\n",
              "      <td>PID_KEJZGXO</td>\n",
              "      <td>0.000000</td>\n",
              "      <td>2017-04-05 00:00:00</td>\n",
              "      <td>2017-04-05 22:00:26</td>\n",
              "      <td>2017-01-04 00:00:00</td>\n",
              "    </tr>\n",
              "    <tr>\n",
              "      <th>495501</th>\n",
              "      <td>PID_BCJWAPV</td>\n",
              "      <td>0.000000</td>\n",
              "      <td>2017-04-12 00:00:00</td>\n",
              "      <td>2017-04-12 00:00:00</td>\n",
              "      <td>2017-01-12 00:00:00</td>\n",
              "    </tr>\n",
              "    <tr>\n",
              "      <th>495502</th>\n",
              "      <td>PID_Q8X67CV</td>\n",
              "      <td>1182.144329</td>\n",
              "      <td>2018-07-28 00:00:00</td>\n",
              "      <td>2018-07-31 00:00:00</td>\n",
              "      <td>2018-01-07 00:00:00</td>\n",
              "    </tr>\n",
              "  </tbody>\n",
              "</table>\n",
              "</div>"
            ],
            "text/plain": [
              "          Policy ID   AMOUNTPAID             DATEPAID             POSTDATE  \\\n",
              "495498  PID_C6XREE9  2579.382206  2017-10-31 00:00:00  2017-03-11 00:00:00   \n",
              "495499  PID_4EPLKA2  5264.994998  2018-12-12 00:00:00  2018-12-28 00:00:00   \n",
              "495500  PID_KEJZGXO     0.000000  2017-04-05 00:00:00  2017-04-05 22:00:26   \n",
              "495501  PID_BCJWAPV     0.000000  2017-04-12 00:00:00  2017-04-12 00:00:00   \n",
              "495502  PID_Q8X67CV  1182.144329  2018-07-28 00:00:00  2018-07-31 00:00:00   \n",
              "\n",
              "             PREMIUMDUEDATE  \n",
              "495498  2017-01-10 00:00:00  \n",
              "495499  2018-01-08 00:00:00  \n",
              "495500  2017-01-04 00:00:00  \n",
              "495501  2017-01-12 00:00:00  \n",
              "495502  2018-01-07 00:00:00  "
            ]
          },
          "metadata": {
            "tags": []
          },
          "execution_count": 256
        }
      ]
    },
    {
      "cell_type": "code",
      "metadata": {
        "id": "uBqJAuijjgWh",
        "colab_type": "code",
        "colab": {}
      },
      "source": [
        "test_set =train_data.loc[train_data[\"Lapse\"]==\"?\"]\n",
        "\n",
        "train_set=train_data.loc[train_data[\"Lapse\"] !=\"?\"]"
      ],
      "execution_count": 0,
      "outputs": []
    },
    {
      "cell_type": "markdown",
      "metadata": {
        "id": "-dHCXjmLjgWm",
        "colab_type": "text"
      },
      "source": [
        "# Creating train data "
      ]
    },
    {
      "cell_type": "code",
      "metadata": {
        "id": "SSEJMKUpjgWn",
        "colab_type": "code",
        "outputId": "df93de00-ac22-4824-cc71-39facfb3bd20",
        "colab": {
          "base_uri": "https://localhost:8080/",
          "height": 232
        }
      },
      "source": [
        "first_mrg          = pd.merge(policy_df, train_set, on=\"Policy ID\",how='left')\n",
        "first_mrg['Lapse'] = first_mrg['Lapse'].replace(np.nan,0)\n",
        "first_mrg['Lapse'] = first_mrg['Lapse'].replace('1',1)\n",
        "first_mrg.tail()"
      ],
      "execution_count": 0,
      "outputs": [
        {
          "output_type": "execute_result",
          "data": {
            "text/html": [
              "<div>\n",
              "<style scoped>\n",
              "    .dataframe tbody tr th:only-of-type {\n",
              "        vertical-align: middle;\n",
              "    }\n",
              "\n",
              "    .dataframe tbody tr th {\n",
              "        vertical-align: top;\n",
              "    }\n",
              "\n",
              "    .dataframe thead th {\n",
              "        text-align: right;\n",
              "    }\n",
              "</style>\n",
              "<table border=\"1\" class=\"dataframe\">\n",
              "  <thead>\n",
              "    <tr style=\"text-align: right;\">\n",
              "      <th></th>\n",
              "      <th>Policy ID</th>\n",
              "      <th>NP2_EFFECTDATE</th>\n",
              "      <th>PPR_PRODCD</th>\n",
              "      <th>NPR_PREMIUM</th>\n",
              "      <th>NPH_LASTNAME</th>\n",
              "      <th>CLF_LIFECD</th>\n",
              "      <th>NSP_SUBPROPOSAL</th>\n",
              "      <th>NPR_SUMASSURED</th>\n",
              "      <th>NLO_TYPE</th>\n",
              "      <th>NLO_AMOUNT</th>\n",
              "      <th>AAG_AGCODE</th>\n",
              "      <th>PCL_LOCATCODE</th>\n",
              "      <th>OCCUPATION</th>\n",
              "      <th>CATEGORY</th>\n",
              "      <th>Lapse</th>\n",
              "      <th>Lapse Year</th>\n",
              "    </tr>\n",
              "  </thead>\n",
              "  <tbody>\n",
              "    <tr>\n",
              "      <th>282810</th>\n",
              "      <td>PID_7P0IXF8</td>\n",
              "      <td>1/5/2017</td>\n",
              "      <td>PPR_PRODCD_KOFUYNN</td>\n",
              "      <td>2109.812579</td>\n",
              "      <td>NPH_LASTNAME_C11UH3D</td>\n",
              "      <td>3</td>\n",
              "      <td>555</td>\n",
              "      <td>74968.903115</td>\n",
              "      <td>NLO_TYPE_DPBHSAH</td>\n",
              "      <td>NaN</td>\n",
              "      <td>AAG_AGCODE_1OCF2N0</td>\n",
              "      <td>PCL_LOCATCODE_SPQHMX5</td>\n",
              "      <td>OCCUPATION_IKCIDKW</td>\n",
              "      <td>CATEGORY_R821UZV</td>\n",
              "      <td>0</td>\n",
              "      <td>NaN</td>\n",
              "    </tr>\n",
              "    <tr>\n",
              "      <th>282811</th>\n",
              "      <td>PID_Q1QLPUQ</td>\n",
              "      <td>1/11/2018</td>\n",
              "      <td>PPR_PRODCD_KOFUYNN</td>\n",
              "      <td>346.027849</td>\n",
              "      <td>NPH_LASTNAME_4PA8HYE</td>\n",
              "      <td>2</td>\n",
              "      <td>222</td>\n",
              "      <td>45513.429325</td>\n",
              "      <td>NLO_TYPE_DPBHSAH</td>\n",
              "      <td>NaN</td>\n",
              "      <td>AAG_AGCODE_M4MM4QC</td>\n",
              "      <td>PCL_LOCATCODE_SPQHMX5</td>\n",
              "      <td>OCCUPATION_IKCIDKW</td>\n",
              "      <td>CATEGORY_R821UZV</td>\n",
              "      <td>0</td>\n",
              "      <td>NaN</td>\n",
              "    </tr>\n",
              "    <tr>\n",
              "      <th>282812</th>\n",
              "      <td>PID_NEDS3A9</td>\n",
              "      <td>1/7/2017</td>\n",
              "      <td>PPR_PRODCD_KOFUYNN</td>\n",
              "      <td>217.975890</td>\n",
              "      <td>NPH_LASTNAME_XF7JXJN</td>\n",
              "      <td>3</td>\n",
              "      <td>333</td>\n",
              "      <td>45513.429325</td>\n",
              "      <td>NLO_TYPE_DPBHSAH</td>\n",
              "      <td>NaN</td>\n",
              "      <td>AAG_AGCODE_DAP1YRU</td>\n",
              "      <td>PCL_LOCATCODE_0T6GYGX</td>\n",
              "      <td>OCCUPATION_NNHJ7XV</td>\n",
              "      <td>CATEGORY_GWW4FYB</td>\n",
              "      <td>1</td>\n",
              "      <td>2018</td>\n",
              "    </tr>\n",
              "    <tr>\n",
              "      <th>282813</th>\n",
              "      <td>PID_U8QKEJK</td>\n",
              "      <td>1/6/2017</td>\n",
              "      <td>PPR_PRODCD_W0F6GK1</td>\n",
              "      <td>5233.874657</td>\n",
              "      <td>NPH_LASTNAME_TE9AFPP</td>\n",
              "      <td>2</td>\n",
              "      <td>222</td>\n",
              "      <td>238857.872515</td>\n",
              "      <td>NLO_TYPE_XAJI0Y6</td>\n",
              "      <td>1075.892081</td>\n",
              "      <td>AAG_AGCODE_L1YVKZO</td>\n",
              "      <td>PCL_LOCATCODE_PEU5TF2</td>\n",
              "      <td>OCCUPATION_IKCIDKW</td>\n",
              "      <td>CATEGORY_R821UZV</td>\n",
              "      <td>0</td>\n",
              "      <td>NaN</td>\n",
              "    </tr>\n",
              "    <tr>\n",
              "      <th>282814</th>\n",
              "      <td>PID_5US8QG7</td>\n",
              "      <td>1/9/2019</td>\n",
              "      <td>PPR_PRODCD_W0F6GK1</td>\n",
              "      <td>3990.141182</td>\n",
              "      <td>NPH_LASTNAME_3WBJCBF</td>\n",
              "      <td>1</td>\n",
              "      <td>111</td>\n",
              "      <td>393442.396414</td>\n",
              "      <td>NLO_TYPE_XAJI0Y6</td>\n",
              "      <td>820.226234</td>\n",
              "      <td>AAG_AGCODE_L1YVKZO</td>\n",
              "      <td>PCL_LOCATCODE_PEU5TF2</td>\n",
              "      <td>OCCUPATION_IKCIDKW</td>\n",
              "      <td>CATEGORY_R821UZV</td>\n",
              "      <td>0</td>\n",
              "      <td>NaN</td>\n",
              "    </tr>\n",
              "  </tbody>\n",
              "</table>\n",
              "</div>"
            ],
            "text/plain": [
              "          Policy ID NP2_EFFECTDATE          PPR_PRODCD  NPR_PREMIUM  \\\n",
              "282810  PID_7P0IXF8       1/5/2017  PPR_PRODCD_KOFUYNN  2109.812579   \n",
              "282811  PID_Q1QLPUQ      1/11/2018  PPR_PRODCD_KOFUYNN   346.027849   \n",
              "282812  PID_NEDS3A9       1/7/2017  PPR_PRODCD_KOFUYNN   217.975890   \n",
              "282813  PID_U8QKEJK       1/6/2017  PPR_PRODCD_W0F6GK1  5233.874657   \n",
              "282814  PID_5US8QG7       1/9/2019  PPR_PRODCD_W0F6GK1  3990.141182   \n",
              "\n",
              "                NPH_LASTNAME  CLF_LIFECD  NSP_SUBPROPOSAL  NPR_SUMASSURED  \\\n",
              "282810  NPH_LASTNAME_C11UH3D           3              555    74968.903115   \n",
              "282811  NPH_LASTNAME_4PA8HYE           2              222    45513.429325   \n",
              "282812  NPH_LASTNAME_XF7JXJN           3              333    45513.429325   \n",
              "282813  NPH_LASTNAME_TE9AFPP           2              222   238857.872515   \n",
              "282814  NPH_LASTNAME_3WBJCBF           1              111   393442.396414   \n",
              "\n",
              "                NLO_TYPE   NLO_AMOUNT          AAG_AGCODE  \\\n",
              "282810  NLO_TYPE_DPBHSAH          NaN  AAG_AGCODE_1OCF2N0   \n",
              "282811  NLO_TYPE_DPBHSAH          NaN  AAG_AGCODE_M4MM4QC   \n",
              "282812  NLO_TYPE_DPBHSAH          NaN  AAG_AGCODE_DAP1YRU   \n",
              "282813  NLO_TYPE_XAJI0Y6  1075.892081  AAG_AGCODE_L1YVKZO   \n",
              "282814  NLO_TYPE_XAJI0Y6   820.226234  AAG_AGCODE_L1YVKZO   \n",
              "\n",
              "                PCL_LOCATCODE          OCCUPATION          CATEGORY  Lapse  \\\n",
              "282810  PCL_LOCATCODE_SPQHMX5  OCCUPATION_IKCIDKW  CATEGORY_R821UZV      0   \n",
              "282811  PCL_LOCATCODE_SPQHMX5  OCCUPATION_IKCIDKW  CATEGORY_R821UZV      0   \n",
              "282812  PCL_LOCATCODE_0T6GYGX  OCCUPATION_NNHJ7XV  CATEGORY_GWW4FYB      1   \n",
              "282813  PCL_LOCATCODE_PEU5TF2  OCCUPATION_IKCIDKW  CATEGORY_R821UZV      0   \n",
              "282814  PCL_LOCATCODE_PEU5TF2  OCCUPATION_IKCIDKW  CATEGORY_R821UZV      0   \n",
              "\n",
              "       Lapse Year  \n",
              "282810        NaN  \n",
              "282811        NaN  \n",
              "282812       2018  \n",
              "282813        NaN  \n",
              "282814        NaN  "
            ]
          },
          "metadata": {
            "tags": []
          },
          "execution_count": 258
        }
      ]
    },
    {
      "cell_type": "code",
      "metadata": {
        "id": "GAGgClPbpXnk",
        "colab_type": "code",
        "outputId": "0b63898b-5698-4c17-9592-d37a6efd1211",
        "colab": {
          "base_uri": "https://localhost:8080/",
          "height": 67
        }
      },
      "source": [
        "first_mrg['Lapse'].value_counts()"
      ],
      "execution_count": 0,
      "outputs": [
        {
          "output_type": "execute_result",
          "data": {
            "text/plain": [
              "0    225260\n",
              "1     57555\n",
              "Name: Lapse, dtype: int64"
            ]
          },
          "metadata": {
            "tags": []
          },
          "execution_count": 259
        }
      ]
    },
    {
      "cell_type": "code",
      "metadata": {
        "id": "DWeXyWE1jgWr",
        "colab_type": "code",
        "outputId": "89b073d5-e691-4435-af4b-7b232b200944",
        "colab": {
          "base_uri": "https://localhost:8080/",
          "height": 34
        }
      },
      "source": [
        "\n",
        "\n",
        "print('The shape of our train file will be ',first_mrg.shape)"
      ],
      "execution_count": 0,
      "outputs": [
        {
          "output_type": "stream",
          "text": [
            "The shape of our train file will be  (282815, 16)\n"
          ],
          "name": "stdout"
        }
      ]
    },
    {
      "cell_type": "markdown",
      "metadata": {
        "id": "r9r1gis-jgWu",
        "colab_type": "text"
      },
      "source": [
        "# Creating test data "
      ]
    },
    {
      "cell_type": "code",
      "metadata": {
        "id": "K-XKskijjgWu",
        "colab_type": "code",
        "outputId": "4a85c5ca-8cba-4008-fd40-7ed0947fb3c3",
        "colab": {
          "base_uri": "https://localhost:8080/",
          "height": 232
        }
      },
      "source": [
        "second_mrg  = pd.merge(test_set,policy_df, on=\"Policy ID\",how='left')\n",
        "second_mrg  = second_mrg.drop_duplicates(subset='Policy ID')\n",
        "second_mrg.tail()"
      ],
      "execution_count": 0,
      "outputs": [
        {
          "output_type": "execute_result",
          "data": {
            "text/html": [
              "<div>\n",
              "<style scoped>\n",
              "    .dataframe tbody tr th:only-of-type {\n",
              "        vertical-align: middle;\n",
              "    }\n",
              "\n",
              "    .dataframe tbody tr th {\n",
              "        vertical-align: top;\n",
              "    }\n",
              "\n",
              "    .dataframe thead th {\n",
              "        text-align: right;\n",
              "    }\n",
              "</style>\n",
              "<table border=\"1\" class=\"dataframe\">\n",
              "  <thead>\n",
              "    <tr style=\"text-align: right;\">\n",
              "      <th></th>\n",
              "      <th>Policy ID</th>\n",
              "      <th>Lapse</th>\n",
              "      <th>Lapse Year</th>\n",
              "      <th>NP2_EFFECTDATE</th>\n",
              "      <th>PPR_PRODCD</th>\n",
              "      <th>NPR_PREMIUM</th>\n",
              "      <th>NPH_LASTNAME</th>\n",
              "      <th>CLF_LIFECD</th>\n",
              "      <th>NSP_SUBPROPOSAL</th>\n",
              "      <th>NPR_SUMASSURED</th>\n",
              "      <th>NLO_TYPE</th>\n",
              "      <th>NLO_AMOUNT</th>\n",
              "      <th>AAG_AGCODE</th>\n",
              "      <th>PCL_LOCATCODE</th>\n",
              "      <th>OCCUPATION</th>\n",
              "      <th>CATEGORY</th>\n",
              "    </tr>\n",
              "  </thead>\n",
              "  <tbody>\n",
              "    <tr>\n",
              "      <th>225238</th>\n",
              "      <td>PID_FSR6DS3</td>\n",
              "      <td>?</td>\n",
              "      <td>?</td>\n",
              "      <td>1/6/2019</td>\n",
              "      <td>PPR_PRODCD_B2KVCE7</td>\n",
              "      <td>191.160414</td>\n",
              "      <td>NPH_LASTNAME_TU0EFBY</td>\n",
              "      <td>3</td>\n",
              "      <td>555</td>\n",
              "      <td>NaN</td>\n",
              "      <td>NLO_TYPE_DPBHSAH</td>\n",
              "      <td>NaN</td>\n",
              "      <td>AAG_AGCODE_218G086</td>\n",
              "      <td>PCL_LOCATCODE_SPQHMX5</td>\n",
              "      <td>OCCUPATION_NNHJ7XV</td>\n",
              "      <td>CATEGORY_GWW4FYB</td>\n",
              "    </tr>\n",
              "    <tr>\n",
              "      <th>225252</th>\n",
              "      <td>PID_98JLBWI</td>\n",
              "      <td>?</td>\n",
              "      <td>?</td>\n",
              "      <td>1/6/2019</td>\n",
              "      <td>PPR_PRODCD_OK3TM96</td>\n",
              "      <td>614.308232</td>\n",
              "      <td>NPH_LASTNAME_8B3JSO8</td>\n",
              "      <td>1</td>\n",
              "      <td>111</td>\n",
              "      <td>45513.429325</td>\n",
              "      <td>NLO_TYPE_DPBHSAH</td>\n",
              "      <td>NaN</td>\n",
              "      <td>AAG_AGCODE_BKH543Z</td>\n",
              "      <td>PCL_LOCATCODE_0T6GYGX</td>\n",
              "      <td>OCCUPATION_Y41IBLJ</td>\n",
              "      <td>CATEGORY_GWW4FYB</td>\n",
              "    </tr>\n",
              "    <tr>\n",
              "      <th>225254</th>\n",
              "      <td>PID_HM8H99C</td>\n",
              "      <td>?</td>\n",
              "      <td>?</td>\n",
              "      <td>1/10/2017</td>\n",
              "      <td>PPR_PRODCD_64QNIHM</td>\n",
              "      <td>3187.154301</td>\n",
              "      <td>NPH_LASTNAME_XF7JXJN</td>\n",
              "      <td>1</td>\n",
              "      <td>111</td>\n",
              "      <td>86253.370871</td>\n",
              "      <td>NLO_TYPE_XAJI0Y6</td>\n",
              "      <td>537.201791</td>\n",
              "      <td>AAG_AGCODE_9X0IGLA</td>\n",
              "      <td>PCL_LOCATCODE_7VFS3EQ</td>\n",
              "      <td>OCCUPATION_WI64CIY</td>\n",
              "      <td>CATEGORY_GWW4FYB</td>\n",
              "    </tr>\n",
              "    <tr>\n",
              "      <th>225256</th>\n",
              "      <td>PID_KQH5U5I</td>\n",
              "      <td>?</td>\n",
              "      <td>?</td>\n",
              "      <td>1/8/2019</td>\n",
              "      <td>PPR_PRODCD_64QNIHM</td>\n",
              "      <td>2795.069380</td>\n",
              "      <td>NPH_LASTNAME_P6QHWZW</td>\n",
              "      <td>1</td>\n",
              "      <td>111</td>\n",
              "      <td>109268.927230</td>\n",
              "      <td>NLO_TYPE_XTHV3A3</td>\n",
              "      <td>609.054794</td>\n",
              "      <td>AAG_AGCODE_GSLG1SX</td>\n",
              "      <td>PCL_LOCATCODE_SPQHMX5</td>\n",
              "      <td>OCCUPATION_WI64CIY</td>\n",
              "      <td>CATEGORY_GWW4FYB</td>\n",
              "    </tr>\n",
              "    <tr>\n",
              "      <th>225258</th>\n",
              "      <td>PID_HWFS2BA</td>\n",
              "      <td>?</td>\n",
              "      <td>?</td>\n",
              "      <td>1/6/2018</td>\n",
              "      <td>PPR_PRODCD_64QNIHM</td>\n",
              "      <td>2795.069380</td>\n",
              "      <td>NPH_LASTNAME_W96CGOW</td>\n",
              "      <td>1</td>\n",
              "      <td>111</td>\n",
              "      <td>175645.703656</td>\n",
              "      <td>NLO_TYPE_XTHV3A3</td>\n",
              "      <td>609.054794</td>\n",
              "      <td>AAG_AGCODE_7T62ME4</td>\n",
              "      <td>PCL_LOCATCODE_PI2W0SA</td>\n",
              "      <td>OCCUPATION_NNHJ7XV</td>\n",
              "      <td>CATEGORY_GWW4FYB</td>\n",
              "    </tr>\n",
              "  </tbody>\n",
              "</table>\n",
              "</div>"
            ],
            "text/plain": [
              "          Policy ID Lapse Lapse Year NP2_EFFECTDATE          PPR_PRODCD  \\\n",
              "225238  PID_FSR6DS3     ?          ?       1/6/2019  PPR_PRODCD_B2KVCE7   \n",
              "225252  PID_98JLBWI     ?          ?       1/6/2019  PPR_PRODCD_OK3TM96   \n",
              "225254  PID_HM8H99C     ?          ?      1/10/2017  PPR_PRODCD_64QNIHM   \n",
              "225256  PID_KQH5U5I     ?          ?       1/8/2019  PPR_PRODCD_64QNIHM   \n",
              "225258  PID_HWFS2BA     ?          ?       1/6/2018  PPR_PRODCD_64QNIHM   \n",
              "\n",
              "        NPR_PREMIUM          NPH_LASTNAME  CLF_LIFECD  NSP_SUBPROPOSAL  \\\n",
              "225238   191.160414  NPH_LASTNAME_TU0EFBY           3              555   \n",
              "225252   614.308232  NPH_LASTNAME_8B3JSO8           1              111   \n",
              "225254  3187.154301  NPH_LASTNAME_XF7JXJN           1              111   \n",
              "225256  2795.069380  NPH_LASTNAME_P6QHWZW           1              111   \n",
              "225258  2795.069380  NPH_LASTNAME_W96CGOW           1              111   \n",
              "\n",
              "        NPR_SUMASSURED          NLO_TYPE  NLO_AMOUNT          AAG_AGCODE  \\\n",
              "225238             NaN  NLO_TYPE_DPBHSAH         NaN  AAG_AGCODE_218G086   \n",
              "225252    45513.429325  NLO_TYPE_DPBHSAH         NaN  AAG_AGCODE_BKH543Z   \n",
              "225254    86253.370871  NLO_TYPE_XAJI0Y6  537.201791  AAG_AGCODE_9X0IGLA   \n",
              "225256   109268.927230  NLO_TYPE_XTHV3A3  609.054794  AAG_AGCODE_GSLG1SX   \n",
              "225258   175645.703656  NLO_TYPE_XTHV3A3  609.054794  AAG_AGCODE_7T62ME4   \n",
              "\n",
              "                PCL_LOCATCODE          OCCUPATION          CATEGORY  \n",
              "225238  PCL_LOCATCODE_SPQHMX5  OCCUPATION_NNHJ7XV  CATEGORY_GWW4FYB  \n",
              "225252  PCL_LOCATCODE_0T6GYGX  OCCUPATION_Y41IBLJ  CATEGORY_GWW4FYB  \n",
              "225254  PCL_LOCATCODE_7VFS3EQ  OCCUPATION_WI64CIY  CATEGORY_GWW4FYB  \n",
              "225256  PCL_LOCATCODE_SPQHMX5  OCCUPATION_WI64CIY  CATEGORY_GWW4FYB  \n",
              "225258  PCL_LOCATCODE_PI2W0SA  OCCUPATION_NNHJ7XV  CATEGORY_GWW4FYB  "
            ]
          },
          "metadata": {
            "tags": []
          },
          "execution_count": 261
        }
      ]
    },
    {
      "cell_type": "markdown",
      "metadata": {
        "id": "TUE4_m7wjgW2",
        "colab_type": "text"
      },
      "source": [
        "# Removing columns from the dataset and preparing our target variable"
      ]
    },
    {
      "cell_type": "code",
      "metadata": {
        "id": "SkQaOHFAjgW3",
        "colab_type": "code",
        "colab": {}
      },
      "source": [
        "target_y = first_mrg['Lapse'].values"
      ],
      "execution_count": 0,
      "outputs": []
    },
    {
      "cell_type": "code",
      "metadata": {
        "id": "EVeJ6ZHyjgW8",
        "colab_type": "code",
        "colab": {}
      },
      "source": [
        "to_drop_cols = ['Policy ID','Lapse Year','NP2_EFFECTDATE','NPH_LASTNAME','Lapse','NLO_AMOUNT']\n",
        "first_mrg   = first_mrg.drop(to_drop_cols,axis=1)\n",
        "second_mrg  = second_mrg.drop(to_drop_cols,axis=1)\n"
      ],
      "execution_count": 0,
      "outputs": []
    },
    {
      "cell_type": "code",
      "metadata": {
        "id": "NjgDsg80Tj0Z",
        "colab_type": "code",
        "colab": {}
      },
      "source": [
        "first_mrg['NPR_SUMASSURED'].fillna(first_mrg['NPR_SUMASSURED'].mean(), inplace=True)"
      ],
      "execution_count": 0,
      "outputs": []
    },
    {
      "cell_type": "code",
      "metadata": {
        "id": "orfiexj1UHBg",
        "colab_type": "code",
        "colab": {}
      },
      "source": [
        "second_mrg['NPR_SUMASSURED'].fillna(second_mrg['NPR_SUMASSURED'].mean(), inplace=True)"
      ],
      "execution_count": 0,
      "outputs": []
    },
    {
      "cell_type": "markdown",
      "metadata": {
        "id": "VkQO3991jgXG",
        "colab_type": "text"
      },
      "source": [
        "## Extracting categorical features from the data"
      ]
    },
    {
      "cell_type": "code",
      "metadata": {
        "id": "fQRu-oGojgXG",
        "colab_type": "code",
        "colab": {}
      },
      "source": [
        "cate_features_index = np.where(first_mrg.dtypes == object)[0]"
      ],
      "execution_count": 0,
      "outputs": []
    },
    {
      "cell_type": "code",
      "metadata": {
        "id": "4YXlu6WgjgXJ",
        "colab_type": "code",
        "colab": {}
      },
      "source": [
        "x_train = first_mrg.values\n",
        "x_test  = second_mrg.values\n",
        "train_y = target_y"
      ],
      "execution_count": 0,
      "outputs": []
    },
    {
      "cell_type": "markdown",
      "metadata": {
        "id": "WWSpSK1mjgXL",
        "colab_type": "text"
      },
      "source": [
        "## Creating a model to find probability of lapses "
      ]
    },
    {
      "cell_type": "code",
      "metadata": {
        "id": "A6Qm4R0ukG8J",
        "colab_type": "code",
        "outputId": "1d71c360-cf5f-4cdf-dd15-aa83ef028fbd",
        "colab": {
          "base_uri": "https://localhost:8080/",
          "height": 252
        }
      },
      "source": [
        "pip install catboost"
      ],
      "execution_count": 0,
      "outputs": [
        {
          "output_type": "stream",
          "text": [
            "Requirement already satisfied: catboost in /usr/local/lib/python3.6/dist-packages (0.23.1)\n",
            "Requirement already satisfied: numpy>=1.16.0 in /usr/local/lib/python3.6/dist-packages (from catboost) (1.18.4)\n",
            "Requirement already satisfied: six in /usr/local/lib/python3.6/dist-packages (from catboost) (1.12.0)\n",
            "Requirement already satisfied: graphviz in /usr/local/lib/python3.6/dist-packages (from catboost) (0.10.1)\n",
            "Requirement already satisfied: scipy in /usr/local/lib/python3.6/dist-packages (from catboost) (1.4.1)\n",
            "Requirement already satisfied: matplotlib in /usr/local/lib/python3.6/dist-packages (from catboost) (3.2.1)\n",
            "Requirement already satisfied: pandas>=0.24.0 in /usr/local/lib/python3.6/dist-packages (from catboost) (1.0.3)\n",
            "Requirement already satisfied: plotly in /usr/local/lib/python3.6/dist-packages (from catboost) (4.4.1)\n",
            "Requirement already satisfied: pyparsing!=2.0.4,!=2.1.2,!=2.1.6,>=2.0.1 in /usr/local/lib/python3.6/dist-packages (from matplotlib->catboost) (2.4.7)\n",
            "Requirement already satisfied: python-dateutil>=2.1 in /usr/local/lib/python3.6/dist-packages (from matplotlib->catboost) (2.8.1)\n",
            "Requirement already satisfied: cycler>=0.10 in /usr/local/lib/python3.6/dist-packages (from matplotlib->catboost) (0.10.0)\n",
            "Requirement already satisfied: kiwisolver>=1.0.1 in /usr/local/lib/python3.6/dist-packages (from matplotlib->catboost) (1.2.0)\n",
            "Requirement already satisfied: pytz>=2017.2 in /usr/local/lib/python3.6/dist-packages (from pandas>=0.24.0->catboost) (2018.9)\n",
            "Requirement already satisfied: retrying>=1.3.3 in /usr/local/lib/python3.6/dist-packages (from plotly->catboost) (1.3.3)\n"
          ],
          "name": "stdout"
        }
      ]
    },
    {
      "cell_type": "code",
      "metadata": {
        "id": "9Xe2Xr23jgXM",
        "colab_type": "code",
        "colab": {}
      },
      "source": [
        "from catboost import CatBoostClassifier\n",
        "from sklearn.metrics import log_loss\n",
        "from sklearn.model_selection import StratifiedKFold"
      ],
      "execution_count": 0,
      "outputs": []
    },
    {
      "cell_type": "code",
      "metadata": {
        "id": "Jpl8sTE8jgXP",
        "colab_type": "code",
        "outputId": "4645f008-c8d3-4128-ccf0-b07f61cbe5e3",
        "colab": {
          "base_uri": "https://localhost:8080/",
          "height": 118
        }
      },
      "source": [
        "for i in range(1):\n",
        "    print('iterations ',i)\n",
        "    n_splits               = 5\n",
        "    oof_pred               = np.zeros((len(x_train), ))\n",
        "    skf                    = StratifiedKFold(n_splits=n_splits, shuffle=True, random_state=42)\n",
        "    y_pred                 = np.zeros((len(x_test), ))\n",
        "    \n",
        "    ##########  Performing stratified k fold on the data \n",
        "    for fold, (tr_ind, val_ind) in enumerate(skf.split(x_train, train_y)):\n",
        "    model = CatBoostClassifier(random_state=42,n_estimators=2000,\n",
        "                               #learning_rate=0.01, l2_leaf_reg=3.5, \n",
        "                               #depth=8, rsm=0.98, loss_function= 'Logloss',reg_lambda=None \n",
        "                               nan_mode='Max',learning_rate=0.02,depth=4,reg_lambda=150,eval_metric='Logloss',use_best_model=True,\n",
        "                               silent=True,task_type='GPU')\n",
        "    \n",
        "        X_train, X_val     = x_train[tr_ind], x_train[val_ind]\n",
        "        y_train, y_val     = train_y[tr_ind], train_y[val_ind]\n",
        "        \n",
        "        ##### Model fit on the k fold train data and its label\n",
        "        model.fit(X_train,y_train,cat_features = cate_features_index,eval_set=(X_val,y_val))\n",
        "        \n",
        "        ##### Validation done on the validation fold\n",
        "        val_pred = model.predict_proba(X_val)[:,1]\n",
        "        \n",
        "        \n",
        "        \n",
        "        ### Validation outcome determined to test the overall AUC of the model\n",
        "        oof_pred[val_ind]  = val_pred\n",
        "        \n",
        "        print('validation logloss fold-',fold+1,': ',log_loss(y_val, val_pred))\n",
        "        oof_pred[val_ind] = val_pred\n",
        "        y_pred += model.predict_proba(x_test)[:,1] / (n_splits)\n",
        "    y_pred_final = y_pred\n",
        "        \n",
        "        "
      ],
      "execution_count": 0,
      "outputs": [
        {
          "output_type": "stream",
          "text": [
            "iterations  0\n",
            "validation logloss fold- 1 :  0.3980101020483006\n",
            "validation logloss fold- 2 :  0.39396767623426343\n",
            "validation logloss fold- 3 :  0.3938134269805739\n",
            "validation logloss fold- 4 :  0.39600830343737337\n",
            "validation logloss fold- 5 :  0.39327892648165047\n"
          ],
          "name": "stdout"
        }
      ]
    },
    {
      "cell_type": "code",
      "metadata": {
        "id": "UB2IYOmSjgXT",
        "colab_type": "code",
        "colab": {}
      },
      "source": [
        "submission_df = pd.DataFrame({'Policy ID':submission['Policy ID'],'Lapse':y_pred_final})\n",
        "submission_df.to_csv('submission_prob_2000_catboost_iheb_150.csv',index=False)"
      ],
      "execution_count": 0,
      "outputs": []
    },
    {
      "cell_type": "code",
      "metadata": {
        "id": "GytnXYi4jgXa",
        "colab_type": "code",
        "outputId": "0cf70e96-7167-4f95-8654-30dd0f373ea7",
        "colab": {
          "base_uri": "https://localhost:8080/",
          "height": 195
        }
      },
      "source": [
        "submission_df.head()"
      ],
      "execution_count": 0,
      "outputs": [
        {
          "output_type": "execute_result",
          "data": {
            "text/html": [
              "<div>\n",
              "<style scoped>\n",
              "    .dataframe tbody tr th:only-of-type {\n",
              "        vertical-align: middle;\n",
              "    }\n",
              "\n",
              "    .dataframe tbody tr th {\n",
              "        vertical-align: top;\n",
              "    }\n",
              "\n",
              "    .dataframe thead th {\n",
              "        text-align: right;\n",
              "    }\n",
              "</style>\n",
              "<table border=\"1\" class=\"dataframe\">\n",
              "  <thead>\n",
              "    <tr style=\"text-align: right;\">\n",
              "      <th></th>\n",
              "      <th>Policy ID</th>\n",
              "      <th>Lapse</th>\n",
              "    </tr>\n",
              "  </thead>\n",
              "  <tbody>\n",
              "    <tr>\n",
              "      <th>0</th>\n",
              "      <td>PID_4928TWH</td>\n",
              "      <td>0.200017</td>\n",
              "    </tr>\n",
              "    <tr>\n",
              "      <th>1</th>\n",
              "      <td>PID_KBLLEGK</td>\n",
              "      <td>0.000757</td>\n",
              "    </tr>\n",
              "    <tr>\n",
              "      <th>2</th>\n",
              "      <td>PID_90F0QA3</td>\n",
              "      <td>0.001555</td>\n",
              "    </tr>\n",
              "    <tr>\n",
              "      <th>3</th>\n",
              "      <td>PID_18F3NHF</td>\n",
              "      <td>0.033285</td>\n",
              "    </tr>\n",
              "    <tr>\n",
              "      <th>4</th>\n",
              "      <td>PID_SX4QUVO</td>\n",
              "      <td>0.249608</td>\n",
              "    </tr>\n",
              "  </tbody>\n",
              "</table>\n",
              "</div>"
            ],
            "text/plain": [
              "     Policy ID     Lapse\n",
              "0  PID_4928TWH  0.200017\n",
              "1  PID_KBLLEGK  0.000757\n",
              "2  PID_90F0QA3  0.001555\n",
              "3  PID_18F3NHF  0.033285\n",
              "4  PID_SX4QUVO  0.249608"
            ]
          },
          "metadata": {
            "tags": []
          },
          "execution_count": 275
        }
      ]
    }
  ]
}
